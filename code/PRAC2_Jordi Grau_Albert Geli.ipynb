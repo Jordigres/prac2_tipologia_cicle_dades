{
 "cells": [
  {
   "cell_type": "markdown",
   "id": "a96890e3",
   "metadata": {},
   "source": [
    "# Pràctica 2 Tipologia i cicle de vida de les dades"
   ]
  },
  {
   "cell_type": "code",
   "execution_count": 1,
   "id": "baccf419",
   "metadata": {},
   "outputs": [],
   "source": [
    "import pandas as pd\n",
    "import matplotlib.pyplot as plt\n",
    "import seaborn as sns\n",
    "import numpy as np\n",
    "import warnings\n",
    "from scipy.stats import shapiro, fligner, pearsonr, spearmanr, mannwhitneyu, chi2_contingency, chi2, norm\n",
    "warnings.filterwarnings('ignore')"
   ]
  },
  {
   "cell_type": "markdown",
   "id": "ed9b6d31",
   "metadata": {},
   "source": [
    "## 1. Load data"
   ]
  },
  {
   "cell_type": "code",
   "execution_count": 2,
   "id": "75f69d4f",
   "metadata": {},
   "outputs": [
    {
     "name": "stdout",
     "output_type": "stream",
     "text": [
      "Train dataframe: 891 rows and 12 columns\n",
      "Test dataframe: 418 rows and 11 columns\n"
     ]
    }
   ],
   "source": [
    "# Read csv\n",
    "data_train = pd.read_csv('train.csv')\n",
    "data_test  = pd.read_csv('test.csv')\n",
    "\n",
    "# dataframes size\n",
    "print(f\"Train dataframe: {str(len(data_train))} rows and {str(len(data_train.columns))} columns\")\n",
    "print(f\"Test dataframe: {str(len(data_test))} rows and {str(len(data_test.columns))} columns\")"
   ]
  },
  {
   "cell_type": "code",
   "execution_count": 3,
   "id": "c365bec5",
   "metadata": {
    "scrolled": true
   },
   "outputs": [
    {
     "name": "stdout",
     "output_type": "stream",
     "text": [
      "Test columns: ['PassengerId', 'Pclass', 'Name', 'Sex', 'Age', 'SibSp', 'Parch', 'Ticket', 'Fare', 'Cabin', 'Embarked']\n"
     ]
    },
    {
     "data": {
      "text/html": [
       "<div>\n",
       "<style scoped>\n",
       "    .dataframe tbody tr th:only-of-type {\n",
       "        vertical-align: middle;\n",
       "    }\n",
       "\n",
       "    .dataframe tbody tr th {\n",
       "        vertical-align: top;\n",
       "    }\n",
       "\n",
       "    .dataframe thead th {\n",
       "        text-align: right;\n",
       "    }\n",
       "</style>\n",
       "<table border=\"1\" class=\"dataframe\">\n",
       "  <thead>\n",
       "    <tr style=\"text-align: right;\">\n",
       "      <th></th>\n",
       "      <th>PassengerId</th>\n",
       "      <th>Survived</th>\n",
       "      <th>Pclass</th>\n",
       "      <th>Name</th>\n",
       "      <th>Sex</th>\n",
       "      <th>Age</th>\n",
       "      <th>SibSp</th>\n",
       "      <th>Parch</th>\n",
       "      <th>Ticket</th>\n",
       "      <th>Fare</th>\n",
       "      <th>Cabin</th>\n",
       "      <th>Embarked</th>\n",
       "    </tr>\n",
       "  </thead>\n",
       "  <tbody>\n",
       "    <tr>\n",
       "      <th>0</th>\n",
       "      <td>1</td>\n",
       "      <td>0</td>\n",
       "      <td>3</td>\n",
       "      <td>Braund, Mr. Owen Harris</td>\n",
       "      <td>male</td>\n",
       "      <td>22.0</td>\n",
       "      <td>1</td>\n",
       "      <td>0</td>\n",
       "      <td>A/5 21171</td>\n",
       "      <td>7.2500</td>\n",
       "      <td>NaN</td>\n",
       "      <td>S</td>\n",
       "    </tr>\n",
       "    <tr>\n",
       "      <th>1</th>\n",
       "      <td>2</td>\n",
       "      <td>1</td>\n",
       "      <td>1</td>\n",
       "      <td>Cumings, Mrs. John Bradley (Florence Briggs Th...</td>\n",
       "      <td>female</td>\n",
       "      <td>38.0</td>\n",
       "      <td>1</td>\n",
       "      <td>0</td>\n",
       "      <td>PC 17599</td>\n",
       "      <td>71.2833</td>\n",
       "      <td>C85</td>\n",
       "      <td>C</td>\n",
       "    </tr>\n",
       "  </tbody>\n",
       "</table>\n",
       "</div>"
      ],
      "text/plain": [
       "   PassengerId  Survived  Pclass  \\\n",
       "0            1         0       3   \n",
       "1            2         1       1   \n",
       "\n",
       "                                                Name     Sex   Age  SibSp  \\\n",
       "0                            Braund, Mr. Owen Harris    male  22.0      1   \n",
       "1  Cumings, Mrs. John Bradley (Florence Briggs Th...  female  38.0      1   \n",
       "\n",
       "   Parch     Ticket     Fare Cabin Embarked  \n",
       "0      0  A/5 21171   7.2500   NaN        S  \n",
       "1      0   PC 17599  71.2833   C85        C  "
      ]
     },
     "execution_count": 3,
     "metadata": {},
     "output_type": "execute_result"
    }
   ],
   "source": [
    "print(f\"Test columns: {list(data_test.columns)}\") # We want to predict \"Survived\"\n",
    "data_train.head(2)"
   ]
  },
  {
   "cell_type": "markdown",
   "id": "19f5d638",
   "metadata": {},
   "source": [
    "Since the test dataset doesn't has the \"Survived\" variable, we are going to predict if the passangers survived using the information contained in the other columns."
   ]
  },
  {
   "cell_type": "markdown",
   "id": "bfc074c5",
   "metadata": {},
   "source": [
    "## 2. Data Integration"
   ]
  },
  {
   "cell_type": "markdown",
   "id": "d08d0cdd",
   "metadata": {},
   "source": [
    "The columns \"PassengerId\", \"Name\" and \"Ticket\" are going to be droped of the dataset because they will not provide relevant information to a possible clasificator."
   ]
  },
  {
   "cell_type": "code",
   "execution_count": 4,
   "id": "c6586399",
   "metadata": {},
   "outputs": [],
   "source": [
    "df = data_train.drop([\"PassengerId\", \"Name\", \"Ticket\"], axis=1)\n",
    "df_test = data_test.drop([\"PassengerId\", \"Name\", \"Ticket\"], axis=1)"
   ]
  },
  {
   "cell_type": "markdown",
   "id": "4dafdc4c",
   "metadata": {},
   "source": [
    "## 3. Data cleansing\n",
    "### 3.1 Missing values"
   ]
  },
  {
   "cell_type": "markdown",
   "id": "0e7200f1",
   "metadata": {},
   "source": [
    "The normalization will be performed in data already splitted in training and test. Thus, we are going to focus on the training set and later we will apply the same normalization procedures on the test set. "
   ]
  },
  {
   "cell_type": "code",
   "execution_count": 5,
   "id": "d5338c36",
   "metadata": {},
   "outputs": [],
   "source": [
    "# Train\n",
    "def find_missing_values(dataset_name, df):\n",
    "    \"\"\"\n",
    "    Find number of NaN per variable and computes their the percentage of NaN values.\n",
    "    \"\"\"\n",
    "    print(f\"{dataset_name} missing values:\")\n",
    "    nulls = df.isnull().sum()\n",
    "    percent_nulls = round(nulls / df.shape[0]*100,2)\n",
    "    zipped = list(zip(df.columns, nulls, percent_nulls))\n",
    "    df_nulls = pd.DataFrame(zipped, columns=[\"Variable\", \"NaN\", \"Percent\"]).set_index(\"Variable\")\n",
    "    df_nulls.sort_values(\"NaN\", ascending=False, inplace=True)\n",
    "    return df_nulls"
   ]
  },
  {
   "cell_type": "code",
   "execution_count": 6,
   "id": "ca209bb3",
   "metadata": {},
   "outputs": [
    {
     "name": "stdout",
     "output_type": "stream",
     "text": [
      "Training missing values:\n"
     ]
    },
    {
     "data": {
      "text/html": [
       "<div>\n",
       "<style scoped>\n",
       "    .dataframe tbody tr th:only-of-type {\n",
       "        vertical-align: middle;\n",
       "    }\n",
       "\n",
       "    .dataframe tbody tr th {\n",
       "        vertical-align: top;\n",
       "    }\n",
       "\n",
       "    .dataframe thead th {\n",
       "        text-align: right;\n",
       "    }\n",
       "</style>\n",
       "<table border=\"1\" class=\"dataframe\">\n",
       "  <thead>\n",
       "    <tr style=\"text-align: right;\">\n",
       "      <th></th>\n",
       "      <th>NaN</th>\n",
       "      <th>Percent</th>\n",
       "    </tr>\n",
       "    <tr>\n",
       "      <th>Variable</th>\n",
       "      <th></th>\n",
       "      <th></th>\n",
       "    </tr>\n",
       "  </thead>\n",
       "  <tbody>\n",
       "    <tr>\n",
       "      <th>Cabin</th>\n",
       "      <td>687</td>\n",
       "      <td>77.10</td>\n",
       "    </tr>\n",
       "    <tr>\n",
       "      <th>Age</th>\n",
       "      <td>177</td>\n",
       "      <td>19.87</td>\n",
       "    </tr>\n",
       "    <tr>\n",
       "      <th>Embarked</th>\n",
       "      <td>2</td>\n",
       "      <td>0.22</td>\n",
       "    </tr>\n",
       "    <tr>\n",
       "      <th>Survived</th>\n",
       "      <td>0</td>\n",
       "      <td>0.00</td>\n",
       "    </tr>\n",
       "    <tr>\n",
       "      <th>Pclass</th>\n",
       "      <td>0</td>\n",
       "      <td>0.00</td>\n",
       "    </tr>\n",
       "    <tr>\n",
       "      <th>Sex</th>\n",
       "      <td>0</td>\n",
       "      <td>0.00</td>\n",
       "    </tr>\n",
       "    <tr>\n",
       "      <th>SibSp</th>\n",
       "      <td>0</td>\n",
       "      <td>0.00</td>\n",
       "    </tr>\n",
       "    <tr>\n",
       "      <th>Parch</th>\n",
       "      <td>0</td>\n",
       "      <td>0.00</td>\n",
       "    </tr>\n",
       "    <tr>\n",
       "      <th>Fare</th>\n",
       "      <td>0</td>\n",
       "      <td>0.00</td>\n",
       "    </tr>\n",
       "  </tbody>\n",
       "</table>\n",
       "</div>"
      ],
      "text/plain": [
       "          NaN  Percent\n",
       "Variable              \n",
       "Cabin     687    77.10\n",
       "Age       177    19.87\n",
       "Embarked    2     0.22\n",
       "Survived    0     0.00\n",
       "Pclass      0     0.00\n",
       "Sex         0     0.00\n",
       "SibSp       0     0.00\n",
       "Parch       0     0.00\n",
       "Fare        0     0.00"
      ]
     },
     "execution_count": 6,
     "metadata": {},
     "output_type": "execute_result"
    }
   ],
   "source": [
    "find_missing_values(\"Training\", df)"
   ]
  },
  {
   "cell_type": "markdown",
   "id": "caa7c9e6",
   "metadata": {},
   "source": [
    "Since \"Cabin\" variable is missing in 77% of the observations we are going to drop this column. Variables \"Age\" and \"Embarked\" have 20% and 0.2% of missing values. Since they don't have a majority of missing values we are going to replace them."
   ]
  },
  {
   "cell_type": "code",
   "execution_count": 7,
   "id": "1fe5fd5c",
   "metadata": {},
   "outputs": [],
   "source": [
    "### Cabin ###\n",
    "df.drop([\"Cabin\"], axis=1, inplace=True)"
   ]
  },
  {
   "cell_type": "markdown",
   "id": "f71aca20",
   "metadata": {},
   "source": [
    "Before replacing \"Age\" missing values, we are going to check the quality of two possible imputations comparing them with the real values in the train dataset. The first one is using the median of the observations within the same group considering the variables \"Pclass\", \"Sex\" and \"Parch\" and the second one using the mean."
   ]
  },
  {
   "cell_type": "code",
   "execution_count": 8,
   "id": "973d8a60",
   "metadata": {
    "scrolled": false
   },
   "outputs": [
    {
     "name": "stdout",
     "output_type": "stream",
     "text": [
      "------Median-------\n",
      "count    714.000000\n",
      "mean       1.968025\n",
      "std       12.041460\n",
      "min      -26.500000\n",
      "25%       -6.000000\n",
      "50%        0.000000\n",
      "75%        8.000000\n",
      "max       48.000000\n",
      "Name: diff_median, dtype: float64\n",
      "\n",
      "\n",
      "------Mean-------\n",
      "count    7.140000e+02\n",
      "mean     1.696744e-15\n",
      "std      1.192281e+01\n",
      "min     -2.450641e+01\n",
      "25%     -8.295192e+00\n",
      "50%     -1.723958e+00\n",
      "75%      6.183333e+00\n",
      "max      4.518333e+01\n",
      "Name: diff_mean, dtype: float64\n"
     ]
    }
   ],
   "source": [
    "### Age ###\n",
    "\n",
    "age_testing = df[df['Age'].notnull()]\n",
    "age_testing['Age_median'] = 0\n",
    "age_testing['Age_mean'] = 0\n",
    "\n",
    "# Median values of reference\n",
    "print(\"------Median-------\")\n",
    "group = age_testing.groupby(['Pclass', 'Sex', 'Parch'])['Age'].median().reset_index()\n",
    "for i, row in group.iterrows():\n",
    "    for u, pasn in age_testing.iterrows():\n",
    "        if (row[0] == pasn[1]) and (row[1] == pasn[2]) and (row[2] == pasn[5]):\n",
    "            age_testing.loc[u, 'Age_median'] = group.loc[i, 'Age']\n",
    "\n",
    "# Difference between real values and median\n",
    "age_testing['diff_median'] = age_testing['Age'] - age_testing['Age_median']\n",
    "print(age_testing['diff_median'].describe())\n",
    "            \n",
    "    \n",
    "# Mean values of reference\n",
    "print(\"\\n\\n------Mean-------\")\n",
    "group = age_testing.groupby(['Pclass', 'Sex', 'Parch'])['Age'].mean().reset_index()\n",
    "for i, row in group.iterrows():\n",
    "    for u, pasn in age_testing.iterrows():\n",
    "        if (row[0] == pasn[1]) and (row[1] == pasn[2]) and (row[2] == pasn[5]):\n",
    "            age_testing.loc[u, 'Age_mean'] = group.loc[i, 'Age']\n",
    "\n",
    "# Difference between real values and mean\n",
    "age_testing['diff_mean'] = age_testing['Age'] - age_testing['Age_mean']\n",
    "print(age_testing['diff_mean'].describe())"
   ]
  },
  {
   "cell_type": "code",
   "execution_count": 9,
   "id": "d0ffdc41",
   "metadata": {},
   "outputs": [
    {
     "data": {
      "image/png": "[encoded data removed]",
      "text/plain": [
       "<Figure size 864x288 with 2 Axes>"
      ]
     },
     "metadata": {
      "needs_background": "light"
     },
     "output_type": "display_data"
    }
   ],
   "source": [
    "fig,(ax1, ax2) = plt.subplots(1,2, figsize=(12,4))\n",
    "age_testing['diff_median'].hist(bins=50, ax=ax1)\n",
    "age_testing['diff_mean'].hist(bins=50, ax=ax2)\n",
    "ax1.set_title(\"Median\")\n",
    "ax2.set_title(\"Mean\")\n",
    "plt.show()"
   ]
  },
  {
   "cell_type": "markdown",
   "id": "93b8eedd",
   "metadata": {},
   "source": [
    "As we have proved in the graphics, these methods have a pretty good accuracy. The majority of observations have an error between -10 and 10 years however, the maximum errors reach values of almost-30 and 40 (surely due to the existence of outliers within the groups of \"Pclass\", \"Sex\" and \"Parch\"). \n",
    "\n",
    "Even though the mean obtained lower extrem values, we are going to use the median owing to their even higher majority of errors around -10 and 10. Thus, \"Age\" variable will be replaced by the median (a robust estimator of location) of the observations within the same group considering the variables \"Pclass\", \"Sex\" and \"Parch\". In this way, the missing values will replaced by the median of the travellers with the same economical level, sex and number of parents and/or childrens."
   ]
  },
  {
   "cell_type": "code",
   "execution_count": 10,
   "id": "c422fd18",
   "metadata": {
    "scrolled": true
   },
   "outputs": [],
   "source": [
    "df['Age'] = df.groupby(['Pclass', 'Sex', 'Parch'])['Age'].apply(lambda x: x.fillna(x.median()))"
   ]
  },
  {
   "cell_type": "markdown",
   "id": "b0b3d0e8",
   "metadata": {},
   "source": [
    "\"Embarked\" variable only has 2 missing observations, therefore we can correct manually these values. Following kaggle forum suggestions, we can quickly search for passengers information on the Internet:\n",
    "- https://www.encyclopedia-titanica.org/titanic-survivor/amelia-icard.html\n",
    "- https://www.encyclopedia-titanica.org/titanic-survivor/martha-evelyn-stone.html"
   ]
  },
  {
   "cell_type": "code",
   "execution_count": 11,
   "id": "06a61b30",
   "metadata": {},
   "outputs": [
    {
     "data": {
      "text/html": [
       "<div>\n",
       "<style scoped>\n",
       "    .dataframe tbody tr th:only-of-type {\n",
       "        vertical-align: middle;\n",
       "    }\n",
       "\n",
       "    .dataframe tbody tr th {\n",
       "        vertical-align: top;\n",
       "    }\n",
       "\n",
       "    .dataframe thead th {\n",
       "        text-align: right;\n",
       "    }\n",
       "</style>\n",
       "<table border=\"1\" class=\"dataframe\">\n",
       "  <thead>\n",
       "    <tr style=\"text-align: right;\">\n",
       "      <th></th>\n",
       "      <th>PassengerId</th>\n",
       "      <th>Survived</th>\n",
       "      <th>Pclass</th>\n",
       "      <th>Name</th>\n",
       "      <th>Sex</th>\n",
       "      <th>Age</th>\n",
       "      <th>SibSp</th>\n",
       "      <th>Parch</th>\n",
       "      <th>Ticket</th>\n",
       "      <th>Fare</th>\n",
       "      <th>Cabin</th>\n",
       "      <th>Embarked</th>\n",
       "    </tr>\n",
       "  </thead>\n",
       "  <tbody>\n",
       "    <tr>\n",
       "      <th>61</th>\n",
       "      <td>62</td>\n",
       "      <td>1</td>\n",
       "      <td>1</td>\n",
       "      <td>Icard, Miss. Amelie</td>\n",
       "      <td>female</td>\n",
       "      <td>38.0</td>\n",
       "      <td>0</td>\n",
       "      <td>0</td>\n",
       "      <td>113572</td>\n",
       "      <td>80.0</td>\n",
       "      <td>B28</td>\n",
       "      <td>NaN</td>\n",
       "    </tr>\n",
       "    <tr>\n",
       "      <th>829</th>\n",
       "      <td>830</td>\n",
       "      <td>1</td>\n",
       "      <td>1</td>\n",
       "      <td>Stone, Mrs. George Nelson (Martha Evelyn)</td>\n",
       "      <td>female</td>\n",
       "      <td>62.0</td>\n",
       "      <td>0</td>\n",
       "      <td>0</td>\n",
       "      <td>113572</td>\n",
       "      <td>80.0</td>\n",
       "      <td>B28</td>\n",
       "      <td>NaN</td>\n",
       "    </tr>\n",
       "  </tbody>\n",
       "</table>\n",
       "</div>"
      ],
      "text/plain": [
       "     PassengerId  Survived  Pclass                                       Name  \\\n",
       "61            62         1       1                        Icard, Miss. Amelie   \n",
       "829          830         1       1  Stone, Mrs. George Nelson (Martha Evelyn)   \n",
       "\n",
       "        Sex   Age  SibSp  Parch  Ticket  Fare Cabin Embarked  \n",
       "61   female  38.0      0      0  113572  80.0   B28      NaN  \n",
       "829  female  62.0      0      0  113572  80.0   B28      NaN  "
      ]
     },
     "execution_count": 11,
     "metadata": {},
     "output_type": "execute_result"
    }
   ],
   "source": [
    "### Embarked ###\n",
    "data_train.loc[df['Embarked'].isnull()]"
   ]
  },
  {
   "cell_type": "code",
   "execution_count": 12,
   "id": "4eed5268",
   "metadata": {},
   "outputs": [],
   "source": [
    "df.loc[df['Embarked'].isnull(), 'Embarked'] = 'S'"
   ]
  },
  {
   "cell_type": "markdown",
   "id": "d5d9b151",
   "metadata": {},
   "source": [
    "Finally we check if there are still any missing value."
   ]
  },
  {
   "cell_type": "code",
   "execution_count": 13,
   "id": "e82bcb60",
   "metadata": {},
   "outputs": [
    {
     "name": "stdout",
     "output_type": "stream",
     "text": [
      "Training missing values:\n"
     ]
    },
    {
     "data": {
      "text/html": [
       "<div>\n",
       "<style scoped>\n",
       "    .dataframe tbody tr th:only-of-type {\n",
       "        vertical-align: middle;\n",
       "    }\n",
       "\n",
       "    .dataframe tbody tr th {\n",
       "        vertical-align: top;\n",
       "    }\n",
       "\n",
       "    .dataframe thead th {\n",
       "        text-align: right;\n",
       "    }\n",
       "</style>\n",
       "<table border=\"1\" class=\"dataframe\">\n",
       "  <thead>\n",
       "    <tr style=\"text-align: right;\">\n",
       "      <th></th>\n",
       "      <th>NaN</th>\n",
       "      <th>Percent</th>\n",
       "    </tr>\n",
       "    <tr>\n",
       "      <th>Variable</th>\n",
       "      <th></th>\n",
       "      <th></th>\n",
       "    </tr>\n",
       "  </thead>\n",
       "  <tbody>\n",
       "    <tr>\n",
       "      <th>Survived</th>\n",
       "      <td>0</td>\n",
       "      <td>0.0</td>\n",
       "    </tr>\n",
       "    <tr>\n",
       "      <th>Pclass</th>\n",
       "      <td>0</td>\n",
       "      <td>0.0</td>\n",
       "    </tr>\n",
       "    <tr>\n",
       "      <th>Sex</th>\n",
       "      <td>0</td>\n",
       "      <td>0.0</td>\n",
       "    </tr>\n",
       "    <tr>\n",
       "      <th>Age</th>\n",
       "      <td>0</td>\n",
       "      <td>0.0</td>\n",
       "    </tr>\n",
       "    <tr>\n",
       "      <th>SibSp</th>\n",
       "      <td>0</td>\n",
       "      <td>0.0</td>\n",
       "    </tr>\n",
       "    <tr>\n",
       "      <th>Parch</th>\n",
       "      <td>0</td>\n",
       "      <td>0.0</td>\n",
       "    </tr>\n",
       "    <tr>\n",
       "      <th>Fare</th>\n",
       "      <td>0</td>\n",
       "      <td>0.0</td>\n",
       "    </tr>\n",
       "    <tr>\n",
       "      <th>Embarked</th>\n",
       "      <td>0</td>\n",
       "      <td>0.0</td>\n",
       "    </tr>\n",
       "  </tbody>\n",
       "</table>\n",
       "</div>"
      ],
      "text/plain": [
       "          NaN  Percent\n",
       "Variable              \n",
       "Survived    0      0.0\n",
       "Pclass      0      0.0\n",
       "Sex         0      0.0\n",
       "Age         0      0.0\n",
       "SibSp       0      0.0\n",
       "Parch       0      0.0\n",
       "Fare        0      0.0\n",
       "Embarked    0      0.0"
      ]
     },
     "execution_count": 13,
     "metadata": {},
     "output_type": "execute_result"
    }
   ],
   "source": [
    "find_missing_values(\"Training\", df)"
   ]
  },
  {
   "cell_type": "markdown",
   "id": "2da70c2c",
   "metadata": {},
   "source": [
    "Now we are going to check the test dataset:"
   ]
  },
  {
   "cell_type": "code",
   "execution_count": 14,
   "id": "3d6c77a7",
   "metadata": {
    "scrolled": true
   },
   "outputs": [
    {
     "name": "stdout",
     "output_type": "stream",
     "text": [
      "Test missing values:\n"
     ]
    },
    {
     "data": {
      "text/html": [
       "<div>\n",
       "<style scoped>\n",
       "    .dataframe tbody tr th:only-of-type {\n",
       "        vertical-align: middle;\n",
       "    }\n",
       "\n",
       "    .dataframe tbody tr th {\n",
       "        vertical-align: top;\n",
       "    }\n",
       "\n",
       "    .dataframe thead th {\n",
       "        text-align: right;\n",
       "    }\n",
       "</style>\n",
       "<table border=\"1\" class=\"dataframe\">\n",
       "  <thead>\n",
       "    <tr style=\"text-align: right;\">\n",
       "      <th></th>\n",
       "      <th>NaN</th>\n",
       "      <th>Percent</th>\n",
       "    </tr>\n",
       "    <tr>\n",
       "      <th>Variable</th>\n",
       "      <th></th>\n",
       "      <th></th>\n",
       "    </tr>\n",
       "  </thead>\n",
       "  <tbody>\n",
       "    <tr>\n",
       "      <th>Cabin</th>\n",
       "      <td>327</td>\n",
       "      <td>78.23</td>\n",
       "    </tr>\n",
       "    <tr>\n",
       "      <th>Age</th>\n",
       "      <td>86</td>\n",
       "      <td>20.57</td>\n",
       "    </tr>\n",
       "    <tr>\n",
       "      <th>Fare</th>\n",
       "      <td>1</td>\n",
       "      <td>0.24</td>\n",
       "    </tr>\n",
       "    <tr>\n",
       "      <th>Pclass</th>\n",
       "      <td>0</td>\n",
       "      <td>0.00</td>\n",
       "    </tr>\n",
       "    <tr>\n",
       "      <th>Sex</th>\n",
       "      <td>0</td>\n",
       "      <td>0.00</td>\n",
       "    </tr>\n",
       "    <tr>\n",
       "      <th>SibSp</th>\n",
       "      <td>0</td>\n",
       "      <td>0.00</td>\n",
       "    </tr>\n",
       "    <tr>\n",
       "      <th>Parch</th>\n",
       "      <td>0</td>\n",
       "      <td>0.00</td>\n",
       "    </tr>\n",
       "    <tr>\n",
       "      <th>Embarked</th>\n",
       "      <td>0</td>\n",
       "      <td>0.00</td>\n",
       "    </tr>\n",
       "  </tbody>\n",
       "</table>\n",
       "</div>"
      ],
      "text/plain": [
       "          NaN  Percent\n",
       "Variable              \n",
       "Cabin     327    78.23\n",
       "Age        86    20.57\n",
       "Fare        1     0.24\n",
       "Pclass      0     0.00\n",
       "Sex         0     0.00\n",
       "SibSp       0     0.00\n",
       "Parch       0     0.00\n",
       "Embarked    0     0.00"
      ]
     },
     "execution_count": 14,
     "metadata": {},
     "output_type": "execute_result"
    }
   ],
   "source": [
    "find_missing_values(\"Test\", df_test)"
   ]
  },
  {
   "cell_type": "markdown",
   "id": "29981295",
   "metadata": {},
   "source": [
    "The test dataset has similar numbers of missing values. \"Cabin\" variable still has more than 70% of missing values and therefore, this column will be removed. Age also has a 20% of missing values that will reeplaced by the median of the observations within the same group of \"Pclass\", \"Sex\" and \"Patch\". Finally, there is 1 missing value in the Fare class that we will explore and try to replace in the next cells."
   ]
  },
  {
   "cell_type": "code",
   "execution_count": 15,
   "id": "7c78b408",
   "metadata": {},
   "outputs": [
    {
     "data": {
      "text/html": [
       "<div>\n",
       "<style scoped>\n",
       "    .dataframe tbody tr th:only-of-type {\n",
       "        vertical-align: middle;\n",
       "    }\n",
       "\n",
       "    .dataframe tbody tr th {\n",
       "        vertical-align: top;\n",
       "    }\n",
       "\n",
       "    .dataframe thead th {\n",
       "        text-align: right;\n",
       "    }\n",
       "</style>\n",
       "<table border=\"1\" class=\"dataframe\">\n",
       "  <thead>\n",
       "    <tr style=\"text-align: right;\">\n",
       "      <th></th>\n",
       "      <th>PassengerId</th>\n",
       "      <th>Pclass</th>\n",
       "      <th>Name</th>\n",
       "      <th>Sex</th>\n",
       "      <th>Age</th>\n",
       "      <th>SibSp</th>\n",
       "      <th>Parch</th>\n",
       "      <th>Ticket</th>\n",
       "      <th>Fare</th>\n",
       "      <th>Cabin</th>\n",
       "      <th>Embarked</th>\n",
       "    </tr>\n",
       "  </thead>\n",
       "  <tbody>\n",
       "    <tr>\n",
       "      <th>152</th>\n",
       "      <td>1044</td>\n",
       "      <td>3</td>\n",
       "      <td>Storey, Mr. Thomas</td>\n",
       "      <td>male</td>\n",
       "      <td>60.5</td>\n",
       "      <td>0</td>\n",
       "      <td>0</td>\n",
       "      <td>3701</td>\n",
       "      <td>NaN</td>\n",
       "      <td>NaN</td>\n",
       "      <td>S</td>\n",
       "    </tr>\n",
       "  </tbody>\n",
       "</table>\n",
       "</div>"
      ],
      "text/plain": [
       "     PassengerId  Pclass                Name   Sex   Age  SibSp  Parch Ticket  \\\n",
       "152         1044       3  Storey, Mr. Thomas  male  60.5      0      0   3701   \n",
       "\n",
       "     Fare Cabin Embarked  \n",
       "152   NaN   NaN        S  "
      ]
     },
     "execution_count": 15,
     "metadata": {},
     "output_type": "execute_result"
    }
   ],
   "source": [
    "# Cabin\n",
    "df_test.drop([\"Cabin\"], axis=1, inplace=True)\n",
    "\n",
    "# Age\n",
    "df_test['Age'] = df.groupby(['Pclass', 'Sex', 'Parch'])['Age'].apply(lambda x: x.fillna(x.median()))\n",
    "\n",
    "# Fare\n",
    "data_test.loc[data_test['Fare'].isnull()]"
   ]
  },
  {
   "cell_type": "markdown",
   "id": "2ffdfcbb",
   "metadata": {},
   "source": [
    "As we can see in the following url (https://www.encyclopedia-titanica.org/titanic-victim/thomas-storey.html), in this case there is no information about the fare. Thus, we are going to replace the missing value by the median of other passengers information."
   ]
  },
  {
   "cell_type": "code",
   "execution_count": 16,
   "id": "e9f8649f",
   "metadata": {},
   "outputs": [],
   "source": [
    "fare = df[(df['Pclass'] == 3) & (df['SibSp'] == 0) & \n",
    "          (df['Parch'] == 0) & (df[\"Embarked\"] == \"S\")]['Fare'] \n",
    "\n",
    "df_test.loc[df_test['Fare'].isnull(), 'Fare'] = fare.median()"
   ]
  },
  {
   "cell_type": "code",
   "execution_count": 17,
   "id": "6d1bbf5d",
   "metadata": {
    "scrolled": true
   },
   "outputs": [
    {
     "name": "stdout",
     "output_type": "stream",
     "text": [
      "Test missing values:\n"
     ]
    },
    {
     "data": {
      "text/html": [
       "<div>\n",
       "<style scoped>\n",
       "    .dataframe tbody tr th:only-of-type {\n",
       "        vertical-align: middle;\n",
       "    }\n",
       "\n",
       "    .dataframe tbody tr th {\n",
       "        vertical-align: top;\n",
       "    }\n",
       "\n",
       "    .dataframe thead th {\n",
       "        text-align: right;\n",
       "    }\n",
       "</style>\n",
       "<table border=\"1\" class=\"dataframe\">\n",
       "  <thead>\n",
       "    <tr style=\"text-align: right;\">\n",
       "      <th></th>\n",
       "      <th>NaN</th>\n",
       "      <th>Percent</th>\n",
       "    </tr>\n",
       "    <tr>\n",
       "      <th>Variable</th>\n",
       "      <th></th>\n",
       "      <th></th>\n",
       "    </tr>\n",
       "  </thead>\n",
       "  <tbody>\n",
       "    <tr>\n",
       "      <th>Pclass</th>\n",
       "      <td>0</td>\n",
       "      <td>0.0</td>\n",
       "    </tr>\n",
       "    <tr>\n",
       "      <th>Sex</th>\n",
       "      <td>0</td>\n",
       "      <td>0.0</td>\n",
       "    </tr>\n",
       "    <tr>\n",
       "      <th>Age</th>\n",
       "      <td>0</td>\n",
       "      <td>0.0</td>\n",
       "    </tr>\n",
       "    <tr>\n",
       "      <th>SibSp</th>\n",
       "      <td>0</td>\n",
       "      <td>0.0</td>\n",
       "    </tr>\n",
       "    <tr>\n",
       "      <th>Parch</th>\n",
       "      <td>0</td>\n",
       "      <td>0.0</td>\n",
       "    </tr>\n",
       "    <tr>\n",
       "      <th>Fare</th>\n",
       "      <td>0</td>\n",
       "      <td>0.0</td>\n",
       "    </tr>\n",
       "    <tr>\n",
       "      <th>Embarked</th>\n",
       "      <td>0</td>\n",
       "      <td>0.0</td>\n",
       "    </tr>\n",
       "  </tbody>\n",
       "</table>\n",
       "</div>"
      ],
      "text/plain": [
       "          NaN  Percent\n",
       "Variable              \n",
       "Pclass      0      0.0\n",
       "Sex         0      0.0\n",
       "Age         0      0.0\n",
       "SibSp       0      0.0\n",
       "Parch       0      0.0\n",
       "Fare        0      0.0\n",
       "Embarked    0      0.0"
      ]
     },
     "execution_count": 17,
     "metadata": {},
     "output_type": "execute_result"
    }
   ],
   "source": [
    "find_missing_values(\"Test\", df_test)"
   ]
  },
  {
   "cell_type": "markdown",
   "id": "94af91ab",
   "metadata": {},
   "source": [
    "Now let's check if there are 0 values that could represent missing values:"
   ]
  },
  {
   "cell_type": "code",
   "execution_count": 18,
   "id": "671128d0",
   "metadata": {},
   "outputs": [
    {
     "data": {
      "text/html": [
       "<div>\n",
       "<style scoped>\n",
       "    .dataframe tbody tr th:only-of-type {\n",
       "        vertical-align: middle;\n",
       "    }\n",
       "\n",
       "    .dataframe tbody tr th {\n",
       "        vertical-align: top;\n",
       "    }\n",
       "\n",
       "    .dataframe thead th {\n",
       "        text-align: right;\n",
       "    }\n",
       "</style>\n",
       "<table border=\"1\" class=\"dataframe\">\n",
       "  <thead>\n",
       "    <tr style=\"text-align: right;\">\n",
       "      <th></th>\n",
       "      <th>Survived</th>\n",
       "      <th>Pclass</th>\n",
       "      <th>Age</th>\n",
       "      <th>SibSp</th>\n",
       "      <th>Parch</th>\n",
       "      <th>Fare</th>\n",
       "    </tr>\n",
       "  </thead>\n",
       "  <tbody>\n",
       "    <tr>\n",
       "      <th>count</th>\n",
       "      <td>891.000000</td>\n",
       "      <td>891.000000</td>\n",
       "      <td>891.000000</td>\n",
       "      <td>891.000000</td>\n",
       "      <td>891.000000</td>\n",
       "      <td>891.000000</td>\n",
       "    </tr>\n",
       "    <tr>\n",
       "      <th>mean</th>\n",
       "      <td>0.383838</td>\n",
       "      <td>2.308642</td>\n",
       "      <td>29.018148</td>\n",
       "      <td>0.523008</td>\n",
       "      <td>0.381594</td>\n",
       "      <td>32.204208</td>\n",
       "    </tr>\n",
       "    <tr>\n",
       "      <th>std</th>\n",
       "      <td>0.486592</td>\n",
       "      <td>0.836071</td>\n",
       "      <td>13.577341</td>\n",
       "      <td>1.102743</td>\n",
       "      <td>0.806057</td>\n",
       "      <td>49.693429</td>\n",
       "    </tr>\n",
       "    <tr>\n",
       "      <th>min</th>\n",
       "      <td>0.000000</td>\n",
       "      <td>1.000000</td>\n",
       "      <td>0.420000</td>\n",
       "      <td>0.000000</td>\n",
       "      <td>0.000000</td>\n",
       "      <td>0.000000</td>\n",
       "    </tr>\n",
       "    <tr>\n",
       "      <th>25%</th>\n",
       "      <td>0.000000</td>\n",
       "      <td>2.000000</td>\n",
       "      <td>21.500000</td>\n",
       "      <td>0.000000</td>\n",
       "      <td>0.000000</td>\n",
       "      <td>7.910400</td>\n",
       "    </tr>\n",
       "    <tr>\n",
       "      <th>50%</th>\n",
       "      <td>0.000000</td>\n",
       "      <td>3.000000</td>\n",
       "      <td>26.000000</td>\n",
       "      <td>0.000000</td>\n",
       "      <td>0.000000</td>\n",
       "      <td>14.454200</td>\n",
       "    </tr>\n",
       "    <tr>\n",
       "      <th>75%</th>\n",
       "      <td>1.000000</td>\n",
       "      <td>3.000000</td>\n",
       "      <td>36.000000</td>\n",
       "      <td>1.000000</td>\n",
       "      <td>0.000000</td>\n",
       "      <td>31.000000</td>\n",
       "    </tr>\n",
       "    <tr>\n",
       "      <th>max</th>\n",
       "      <td>1.000000</td>\n",
       "      <td>3.000000</td>\n",
       "      <td>80.000000</td>\n",
       "      <td>8.000000</td>\n",
       "      <td>6.000000</td>\n",
       "      <td>512.329200</td>\n",
       "    </tr>\n",
       "  </tbody>\n",
       "</table>\n",
       "</div>"
      ],
      "text/plain": [
       "         Survived      Pclass         Age       SibSp       Parch        Fare\n",
       "count  891.000000  891.000000  891.000000  891.000000  891.000000  891.000000\n",
       "mean     0.383838    2.308642   29.018148    0.523008    0.381594   32.204208\n",
       "std      0.486592    0.836071   13.577341    1.102743    0.806057   49.693429\n",
       "min      0.000000    1.000000    0.420000    0.000000    0.000000    0.000000\n",
       "25%      0.000000    2.000000   21.500000    0.000000    0.000000    7.910400\n",
       "50%      0.000000    3.000000   26.000000    0.000000    0.000000   14.454200\n",
       "75%      1.000000    3.000000   36.000000    1.000000    0.000000   31.000000\n",
       "max      1.000000    3.000000   80.000000    8.000000    6.000000  512.329200"
      ]
     },
     "execution_count": 18,
     "metadata": {},
     "output_type": "execute_result"
    }
   ],
   "source": [
    "df.describe()"
   ]
  },
  {
   "cell_type": "markdown",
   "id": "6f9759cd",
   "metadata": {},
   "source": [
    "The variables \"Survived\", \"SibSp\", \"Parch\" and \"Fare\" have 0 values, however in all of them 0 values have a meaning. In the first one it means that the passenger doesn't survive and in the second and third ones they represent the number of relatives in the Titanic. The last one could be considered as free travels or missing values however (and it is a personal interpretation), I think they could correspond to some of the Titanic crew. To suport my idea, we can see on the following histogram that there are a few number of 0 values in the \"Fare\" variable that could represent some of the crewstaff."
   ]
  },
  {
   "cell_type": "code",
   "execution_count": 19,
   "id": "abae9754",
   "metadata": {},
   "outputs": [
    {
     "data": {
      "image/png": "[encoded data removed]",
      "text/plain": [
       "<Figure size 864x432 with 1 Axes>"
      ]
     },
     "metadata": {
      "needs_background": "light"
     },
     "output_type": "display_data"
    }
   ],
   "source": [
    "# Fare distribution\n",
    "fig, ax = plt.subplots(1,1, figsize=(12,6))\n",
    "ax.hist(df['Fare'], bins=200)\n",
    "ax.set_ylim([0, 250])\n",
    "plt.ylabel(\"Count\")\n",
    "plt.xlabel(\"Fare\")\n",
    "plt.show()"
   ]
  },
  {
   "cell_type": "markdown",
   "id": "45fdc6a5",
   "metadata": {},
   "source": [
    "### 3.2 Outliers"
   ]
  },
  {
   "cell_type": "code",
   "execution_count": 20,
   "id": "51d1a1ef",
   "metadata": {
    "scrolled": false
   },
   "outputs": [
    {
     "name": "stdout",
     "output_type": "stream",
     "text": [
      "              Age        Fare\n",
      "count  891.000000  891.000000\n",
      "mean    29.018148   32.204208\n",
      "std     13.577341   49.693429\n",
      "min      0.420000    0.000000\n",
      "25%     21.500000    7.910400\n",
      "50%     26.000000   14.454200\n",
      "75%     36.000000   31.000000\n",
      "max     80.000000  512.329200\n"
     ]
    },
    {
     "data": {
      "image/png": "[encoded data removed]",
      "text/plain": [
       "<Figure size 864x648 with 4 Axes>"
      ]
     },
     "metadata": {
      "needs_background": "light"
     },
     "output_type": "display_data"
    },
    {
     "name": "stdout",
     "output_type": "stream",
     "text": [
      "Age variable has 33 outliers considering 1.5*IQR\n",
      "Fare variable has 116 outliers considering 1.5*IQR\n"
     ]
    }
   ],
   "source": [
    "# Age and Fare describe\n",
    "print(df.loc[:,[\"Age\",\"Fare\"]].describe())\n",
    "\n",
    "# Boxplots\n",
    "fig, (ax1, ax2) = plt.subplots(2,2, figsize=(12,9))\n",
    "df.boxplot(column=\"Age\",ax=ax1[0])\n",
    "df['Age'].hist(bins=16, ax=ax1[1])\n",
    "df.boxplot(column=\"Fare\",ax=ax2[0])\n",
    "df['Fare'].hist(bins=20, ax=ax2[1])\n",
    "ax2[0].set_ylim([0,100])\n",
    "plt.show()\n",
    "\n",
    "# Number of outliers\n",
    "Q1 = df.loc[:,[\"Age\",\"Fare\"]].quantile(0.25)\n",
    "Q3 = df.loc[:,[\"Age\",\"Fare\"]].quantile(0.75)\n",
    "IQR = Q3 - Q1\n",
    "limit = Q3 + 1.5 * IQR\n",
    "age_outliers = df.loc[df[\"Age\"] > limit[0], 'Age'].count()\n",
    "fare_outliers = df.loc[df[\"Fare\"] > limit[1], 'Fare'].count()\n",
    "print(f\"Age variable has {age_outliers} outliers considering 1.5*IQR\")\n",
    "print(f\"Fare variable has {fare_outliers} outliers considering 1.5*IQR\")      "
   ]
  },
  {
   "cell_type": "markdown",
   "id": "0c9f9ffe",
   "metadata": {},
   "source": [
    "Variable \"Age\" is in a range between 0 and 80 years. Although there are 33 outliers we will not consider them as extrem values because they are equal or below 80 years, a perfectly feasible age. On the other hand, \"Fare\" variable has 166 outliers, some of them with a pretty high values. Let's explore them:"
   ]
  },
  {
   "cell_type": "code",
   "execution_count": 21,
   "id": "fd765013",
   "metadata": {
    "scrolled": true
   },
   "outputs": [
    {
     "data": {
      "image/png": "[encoded data removed]",
      "text/plain": [
       "<Figure size 864x360 with 2 Axes>"
      ]
     },
     "metadata": {
      "needs_background": "light"
     },
     "output_type": "display_data"
    }
   ],
   "source": [
    "fig, (ax1, ax2) = plt.subplots(1,2, figsize=(12,5))\n",
    "df.boxplot(column=\"Fare\", by=\"Pclass\", ax=ax1)\n",
    "df.boxplot(column=\"Fare\", by=\"Embarked\", ax=ax2)\n",
    "plt.show()"
   ]
  },
  {
   "cell_type": "markdown",
   "id": "12f5143f",
   "metadata": {},
   "source": [
    "All possible outliers are found in 1st class passengers who got on board in Cherbourg or Southampton. Since the most expensive tickets are found in the 1st class, it does not seem like an error. In addition, as we can see in the next cell those who paid 500 survived (not like all of those who paid 200) therefore, they could have received special treatment in the disaster, thus it could be a good a idea to keep this information. "
   ]
  },
  {
   "cell_type": "code",
   "execution_count": 22,
   "id": "5e882c29",
   "metadata": {},
   "outputs": [
    {
     "data": {
      "text/html": [
       "<div>\n",
       "<style scoped>\n",
       "    .dataframe tbody tr th:only-of-type {\n",
       "        vertical-align: middle;\n",
       "    }\n",
       "\n",
       "    .dataframe tbody tr th {\n",
       "        vertical-align: top;\n",
       "    }\n",
       "\n",
       "    .dataframe thead th {\n",
       "        text-align: right;\n",
       "    }\n",
       "</style>\n",
       "<table border=\"1\" class=\"dataframe\">\n",
       "  <thead>\n",
       "    <tr style=\"text-align: right;\">\n",
       "      <th></th>\n",
       "      <th>Survived</th>\n",
       "      <th>Fare</th>\n",
       "    </tr>\n",
       "  </thead>\n",
       "  <tbody>\n",
       "    <tr>\n",
       "      <th>258</th>\n",
       "      <td>1</td>\n",
       "      <td>512.3292</td>\n",
       "    </tr>\n",
       "    <tr>\n",
       "      <th>679</th>\n",
       "      <td>1</td>\n",
       "      <td>512.3292</td>\n",
       "    </tr>\n",
       "    <tr>\n",
       "      <th>737</th>\n",
       "      <td>1</td>\n",
       "      <td>512.3292</td>\n",
       "    </tr>\n",
       "    <tr>\n",
       "      <th>27</th>\n",
       "      <td>0</td>\n",
       "      <td>263.0000</td>\n",
       "    </tr>\n",
       "    <tr>\n",
       "      <th>341</th>\n",
       "      <td>1</td>\n",
       "      <td>263.0000</td>\n",
       "    </tr>\n",
       "    <tr>\n",
       "      <th>438</th>\n",
       "      <td>0</td>\n",
       "      <td>263.0000</td>\n",
       "    </tr>\n",
       "    <tr>\n",
       "      <th>88</th>\n",
       "      <td>1</td>\n",
       "      <td>263.0000</td>\n",
       "    </tr>\n",
       "    <tr>\n",
       "      <th>311</th>\n",
       "      <td>1</td>\n",
       "      <td>262.3750</td>\n",
       "    </tr>\n",
       "    <tr>\n",
       "      <th>742</th>\n",
       "      <td>1</td>\n",
       "      <td>262.3750</td>\n",
       "    </tr>\n",
       "    <tr>\n",
       "      <th>118</th>\n",
       "      <td>0</td>\n",
       "      <td>247.5208</td>\n",
       "    </tr>\n",
       "    <tr>\n",
       "      <th>299</th>\n",
       "      <td>1</td>\n",
       "      <td>247.5208</td>\n",
       "    </tr>\n",
       "    <tr>\n",
       "      <th>716</th>\n",
       "      <td>1</td>\n",
       "      <td>227.5250</td>\n",
       "    </tr>\n",
       "    <tr>\n",
       "      <th>380</th>\n",
       "      <td>1</td>\n",
       "      <td>227.5250</td>\n",
       "    </tr>\n",
       "    <tr>\n",
       "      <th>557</th>\n",
       "      <td>0</td>\n",
       "      <td>227.5250</td>\n",
       "    </tr>\n",
       "    <tr>\n",
       "      <th>700</th>\n",
       "      <td>1</td>\n",
       "      <td>227.5250</td>\n",
       "    </tr>\n",
       "    <tr>\n",
       "      <th>527</th>\n",
       "      <td>0</td>\n",
       "      <td>221.7792</td>\n",
       "    </tr>\n",
       "    <tr>\n",
       "      <th>377</th>\n",
       "      <td>0</td>\n",
       "      <td>211.5000</td>\n",
       "    </tr>\n",
       "    <tr>\n",
       "      <th>730</th>\n",
       "      <td>1</td>\n",
       "      <td>211.3375</td>\n",
       "    </tr>\n",
       "    <tr>\n",
       "      <th>689</th>\n",
       "      <td>1</td>\n",
       "      <td>211.3375</td>\n",
       "    </tr>\n",
       "    <tr>\n",
       "      <th>779</th>\n",
       "      <td>1</td>\n",
       "      <td>211.3375</td>\n",
       "    </tr>\n",
       "  </tbody>\n",
       "</table>\n",
       "</div>"
      ],
      "text/plain": [
       "     Survived      Fare\n",
       "258         1  512.3292\n",
       "679         1  512.3292\n",
       "737         1  512.3292\n",
       "27          0  263.0000\n",
       "341         1  263.0000\n",
       "438         0  263.0000\n",
       "88          1  263.0000\n",
       "311         1  262.3750\n",
       "742         1  262.3750\n",
       "118         0  247.5208\n",
       "299         1  247.5208\n",
       "716         1  227.5250\n",
       "380         1  227.5250\n",
       "557         0  227.5250\n",
       "700         1  227.5250\n",
       "527         0  221.7792\n",
       "377         0  211.5000\n",
       "730         1  211.3375\n",
       "689         1  211.3375\n",
       "779         1  211.3375"
      ]
     },
     "execution_count": 22,
     "metadata": {},
     "output_type": "execute_result"
    }
   ],
   "source": [
    "df[df['Fare'] > 200].sort_values('Fare', ascending=False).loc[:,('Survived', 'Fare')]"
   ]
  },
  {
   "cell_type": "code",
   "execution_count": 23,
   "id": "f62db1f4",
   "metadata": {},
   "outputs": [],
   "source": [
    "# Save final dataset\n",
    "df.to_csv('train_clean.csv')\n",
    "df_test.to_csv('test_clean.csv')"
   ]
  },
  {
   "cell_type": "markdown",
   "id": "aa53d3a4",
   "metadata": {},
   "source": [
    "## 4. Data Analysis"
   ]
  },
  {
   "cell_type": "markdown",
   "id": "684ad989",
   "metadata": {},
   "source": [
    "### 4.1.Univariant and multivariant Analysis"
   ]
  },
  {
   "cell_type": "code",
   "execution_count": 24,
   "id": "dc3577c5",
   "metadata": {
    "scrolled": false
   },
   "outputs": [
    {
     "data": {
      "image/png": "[encoded data removed]",
      "text/plain": [
       "<Figure size 864x864 with 8 Axes>"
      ]
     },
     "metadata": {
      "needs_background": "light"
     },
     "output_type": "display_data"
    }
   ],
   "source": [
    "# Univariant analysis\n",
    "fig, (ax1, ax2, ax3, ax4) = plt.subplots(4,2, figsize=(12,12))\n",
    "\n",
    "survived = df.groupby(['Survived']).count().reset_index()['Pclass']\n",
    "survived.plot.bar(x='Survived', color=['red', 'green'], ax=ax1[0])\n",
    "ax1[0].set_title('Survived frequency')\n",
    "\n",
    "pclass = df.groupby(['Pclass']).count()['Survived']\n",
    "pclass.plot.bar(x='Pclass', ax=ax1[1])\n",
    "ax1[1].set_title('Pclass frequency')\n",
    "\n",
    "sex = df.groupby(['Sex']).count()['Survived']\n",
    "sex.plot.bar(x='Sex', ax=ax2[0])\n",
    "ax2[0].set_title('Sex frequency')\n",
    "\n",
    "sib = df.groupby(['SibSp']).count()['Pclass']\n",
    "sib.plot.bar(x='SibSp', ax=ax2[1])\n",
    "ax2[1].set_title('SibSp frequency')\n",
    "\n",
    "parch = df.groupby(['Parch']).count()['Pclass']\n",
    "parch.plot.bar(x='Parch', ax=ax3[0])\n",
    "ax3[0].set_title('Parch frequency')\n",
    "\n",
    "parch = df.groupby(['Embarked']).count().reset_index().loc[:,'Embarked':'Survived']\n",
    "ax3[1].bar(parch[\"Embarked\"], parch[\"Survived\"])\n",
    "ax3[1].set_title('Embarked frequency')\n",
    "\n",
    "df['Age'].hist(bins=16, ax=ax4[0])\n",
    "ax4[0].set_title('Age frequency')\n",
    "\n",
    "df['Fare'].hist(bins=20, ax=ax4[1])\n",
    "ax4[1].set_title('Fare frequency')\n",
    "\n",
    "plt.tight_layout()"
   ]
  },
  {
   "cell_type": "code",
   "execution_count": 25,
   "id": "19659bcc",
   "metadata": {
    "scrolled": false
   },
   "outputs": [
    {
     "data": {
      "image/png": "[encoded data removed]",
      "text/plain": [
       "<Figure size 864x1080 with 8 Axes>"
      ]
     },
     "metadata": {
      "needs_background": "light"
     },
     "output_type": "display_data"
    }
   ],
   "source": [
    "# Multivariant analysis\n",
    "\n",
    "# Prepare datasets to plot\n",
    "pclass = df.groupby(['Pclass', 'Survived']).count()['Embarked'].reset_index().pivot(\n",
    "    index='Pclass', columns='Survived', values=\"Embarked\")\n",
    "\n",
    "sex = df.groupby(['Sex', 'Survived']).count()['Embarked'].reset_index().pivot(\n",
    "    index='Sex', columns='Survived', values=\"Embarked\")\n",
    "\n",
    "sibsp = df.groupby(['SibSp', 'Survived']).count()['Embarked'].reset_index().pivot(\n",
    "    index='SibSp', columns='Survived', values=\"Embarked\")\n",
    "\n",
    "parch = df.groupby(['Parch', 'Survived']).count()['Embarked'].reset_index().pivot(\n",
    "    index='Parch', columns='Survived', values=\"Embarked\")\n",
    "\n",
    "embarked = df.groupby(['Embarked', 'Survived']).count()['Parch'].reset_index().pivot(\n",
    "    index='Embarked', columns='Survived', values=\"Parch\")\n",
    "\n",
    "# Plot \n",
    "fg, (ax1, ax2, ax3, ax4) = plt.subplots(4,2, figsize=(12, 15))\n",
    "\n",
    "pclass.plot.bar(color=['red', 'green'], ax=ax1[0])\n",
    "sex.plot.bar(color=['red', 'green'], ax=ax1[1])\n",
    "sibsp.plot.bar(color=['red', 'green'], ax=ax2[0])\n",
    "parch.plot.bar(color=['red', 'green'], ax=ax2[1])\n",
    "embarked.plot.bar(color=['red', 'green'], ax=ax3[0])\n",
    "\n",
    "df[df['Survived'] == 1]['Age'].hist(bins=16, color=['green'], ax=ax3[1], alpha=1)\n",
    "df[df['Survived'] == 0]['Age'].hist(bins=16, color=['red'], ax=ax3[1], alpha=0.6)\n",
    "\n",
    "df[df['Survived'] == 1]['Fare'].hist(bins=20, color=['green'], ax=ax4[0], alpha=1)\n",
    "df[df['Survived'] == 0]['Fare'].hist(bins=20, color=['red'], ax=ax4[0], alpha=0.7)\n",
    "\n",
    "ax1[0].set_title('Pclass frequency')\n",
    "ax1[1].set_title('Sex frequency')\n",
    "ax2[0].set_title('SibSp frequency')\n",
    "ax2[1].set_title('Parch frequency')\n",
    "ax3[0].set_title('Embarked frequency')\n",
    "ax3[1].set_title('Age frequency')\n",
    "ax4[0].set_title('Fare frequency')\n",
    "\n",
    "plt.tight_layout()"
   ]
  },
  {
   "cell_type": "markdown",
   "id": "447660d4",
   "metadata": {},
   "source": [
    "### 4.2. Data Normality and Homoscedasticity"
   ]
  },
  {
   "cell_type": "markdown",
   "id": "f689d967",
   "metadata": {},
   "source": [
    "Normality and homoscedasticity of Age variable:"
   ]
  },
  {
   "cell_type": "code",
   "execution_count": 26,
   "id": "47339b09",
   "metadata": {},
   "outputs": [
    {
     "data": {
      "image/png": "[encoded data removed]",
      "text/plain": [
       "<Figure size 1080x360 with 2 Axes>"
      ]
     },
     "metadata": {
      "needs_background": "light"
     },
     "output_type": "display_data"
    }
   ],
   "source": [
    "## Age distribution (histogram) of survived and not survived\n",
    "\n",
    "# Create survived/non_survived DF\n",
    "survived = df[df[\"Survived\"] == 1][\"Age\"]\n",
    "not_survived = df[df[\"Survived\"] == 0][\"Age\"]\n",
    "\n",
    "# Plot hists\n",
    "fig, axes = plt.subplots(1, 2, figsize=(15, 5))\n",
    "sns.histplot(survived, bins = 20, kde = True, ax = axes[0])\n",
    "axes[0].set_ylabel(\"Survived Age Count\")\n",
    "sns.histplot(not_survived, bins = 20, kde = True, ax = axes[1])\n",
    "axes[1].set_ylabel(\"Not Survived Age Count\")\n",
    "plt.show()"
   ]
  },
  {
   "cell_type": "markdown",
   "id": "d29d77ff",
   "metadata": {},
   "source": [
    "At first sight we could think this are not completely normal distributions. We are going to execute a Shapiro-Wilk test to see if normality reigns over our distribution:"
   ]
  },
  {
   "cell_type": "code",
   "execution_count": 27,
   "id": "c6c18fd5",
   "metadata": {},
   "outputs": [
    {
     "name": "stdout",
     "output_type": "stream",
     "text": [
      "Survived:  3.34E-04\n",
      "Not Survived:  1.21E-11\n"
     ]
    }
   ],
   "source": [
    "# Shapiro test for Survived DF\n",
    "print(\"Survived: \", f'{shapiro(survived)[1]:.2E}')\n",
    "\n",
    "#Shapiro test for non_survived DF\n",
    "print(\"Not Survived: \", f'{shapiro(not_survived)[1]:.2E}')"
   ]
  },
  {
   "cell_type": "markdown",
   "id": "8a184858",
   "metadata": {},
   "source": [
    "In both cases we obtained a *p-value* less than 0.05, with which we can deny the null hypothesis of normal distributuion in our data (in both populations).\n",
    "\n",
    "We will now proceed to study the possible homoscedasticity of the variables. As we are not in front of a normal distributed population we are going to apply a Fligner-Killeen test:"
   ]
  },
  {
   "cell_type": "code",
   "execution_count": 28,
   "id": "d7ad0b36",
   "metadata": {},
   "outputs": [
    {
     "name": "stdout",
     "output_type": "stream",
     "text": [
      "Fligner-Killeen test:  1.15E-02\n"
     ]
    }
   ],
   "source": [
    "# Fligner-Killeen test\n",
    "print(\"Fligner-Killeen test: \", f'{fligner(survived, not_survived)[1]:.2E}')"
   ]
  },
  {
   "cell_type": "markdown",
   "id": "c5d6a117",
   "metadata": {},
   "source": [
    "As we can see, we obtain now a *p-value* less than 0.05, with which we can reject our null hypothesis of homoscedasticity and say that our populations have not equal variances!"
   ]
  },
  {
   "cell_type": "markdown",
   "id": "78192e26",
   "metadata": {},
   "source": [
    "### 4.3. Statistical Analysis of Data\n",
    "\n",
    "Let's focus now between the relationships among our features.\n",
    "\n",
    "We are going to start with our two numerical variables (_Age_ and _Fare_). To see if they are correlated we are going to calculate Spearman's correlation coefficient (as these are non-normal distributions).\n",
    "\n",
    "First, though, we are going to see its distribution:"
   ]
  },
  {
   "cell_type": "code",
   "execution_count": 29,
   "id": "c7128b5e",
   "metadata": {},
   "outputs": [
    {
     "data": {
      "image/png": "[encoded data removed]",
      "text/plain": [
       "<Figure size 432x288 with 1 Axes>"
      ]
     },
     "metadata": {
      "needs_background": "light"
     },
     "output_type": "display_data"
    }
   ],
   "source": [
    "sns.scatterplot(df[\"Age\"], df[\"Fare\"])\n",
    "plt.show()"
   ]
  },
  {
   "cell_type": "markdown",
   "id": "17b651e1",
   "metadata": {},
   "source": [
    "As we can see in the scatter plot of this two variables there is not any sign of correlation between them.\n",
    "\n",
    "Anyway, we are going to calculate both coefficents:"
   ]
  },
  {
   "cell_type": "code",
   "execution_count": 30,
   "id": "7c15772d",
   "metadata": {},
   "outputs": [
    {
     "name": "stdout",
     "output_type": "stream",
     "text": [
      "Spearman's correlation coefficient:  0.15\n"
     ]
    }
   ],
   "source": [
    "# Spearman\n",
    "print(\"Spearman's correlation coefficient: \", round(spearmanr(df[\"Age\"], df[\"Fare\"])[0], 2))"
   ]
  },
  {
   "cell_type": "markdown",
   "id": "321d7594",
   "metadata": {},
   "source": [
    "This correlation coefficients confirm what we had already perceived in the plot: the non-correlation between the numeric variables *Fare* and *Age*.\n",
    "\n",
    "Shall we proceed, then, to see if our survied people ratio keeps relation with the rest of the variables mentioned in 4.1.\n",
    "\n",
    "We will start, to proceed with age. We are going to see if there are significative statistical between the ages among the two groups. We are going to see that with a Mann-Whitney test (non-parametric because of our non-normality):"
   ]
  },
  {
   "cell_type": "code",
   "execution_count": 31,
   "id": "34431cf7",
   "metadata": {},
   "outputs": [
    {
     "name": "stdout",
     "output_type": "stream",
     "text": [
      "p-value: 1.50E-01\n"
     ]
    }
   ],
   "source": [
    "## Mann-Whitney test\n",
    "\n",
    "# We are going to use our DF defined before 'survived' and 'not_survived' that contained\n",
    "# the ages of the two populations\n",
    "print(f'p-value: {mannwhitneyu(survived, not_survived)[1]:.2E}')"
   ]
  },
  {
   "cell_type": "markdown",
   "id": "31b22851",
   "metadata": {},
   "source": [
    "We can see that we obtained a *p-value* greater than 0.05, with which we fail to reject the null hypothesis that the age distribution among survivors and not-survivors are equal.\n",
    "\n",
    "We ask ourselves now if this is different when we repeat the hypothesis test but for each gender."
   ]
  },
  {
   "cell_type": "code",
   "execution_count": 32,
   "id": "2227d18e",
   "metadata": {
    "scrolled": true
   },
   "outputs": [
    {
     "name": "stdout",
     "output_type": "stream",
     "text": [
      "Male Survived p-value: 5.98E-03\n",
      "Male Not Survived p-value: 1.31E-12\n",
      "Female Survived p-value: 8.28E-04\n",
      "Female Not Survived p-value: 9.34E-03\n"
     ]
    }
   ],
   "source": [
    "## We separate survived in male and female (and so for not_survived)\n",
    "\n",
    "male_surv = df.loc[(df[\"Survived\"] == 1) & (df[\"Sex\"] == \"male\")][\"Age\"]\n",
    "male_not_surv = df.loc[(df[\"Survived\"] == 0) & (df[\"Sex\"] == \"male\")][\"Age\"]\n",
    "fem_surv = df.loc[(df[\"Survived\"] == 1) & (df[\"Sex\"] == \"female\")][\"Age\"]\n",
    "fem_not_surv = df.loc[(df[\"Survived\"] == 0) & (df[\"Sex\"] == \"female\")][\"Age\"]\n",
    "\n",
    "# We proceed now to evaluate their normality\n",
    "print(\"Male Survived\", f'p-value: {shapiro(male_surv)[1]:.2E}')\n",
    "print(\"Male Not Survived\", f'p-value: {shapiro(male_not_surv)[1]:.2E}')\n",
    "print(\"Female Survived\", f'p-value: {shapiro(fem_surv)[1]:.2E}')\n",
    "print(\"Female Not Survived\", f'p-value: {shapiro(fem_not_surv)[1]:.2E}')"
   ]
  },
  {
   "cell_type": "markdown",
   "id": "3a9a44e9",
   "metadata": {},
   "source": [
    "We can observe that our data is still not normally distributed.\n",
    "\n",
    "We proceed to compare the difference between the mean Ages in each sex category:"
   ]
  },
  {
   "cell_type": "code",
   "execution_count": 33,
   "id": "a9cfca20",
   "metadata": {},
   "outputs": [
    {
     "name": "stdout",
     "output_type": "stream",
     "text": [
      "Mann-Whitney test for male population p-value:  1.77E-01\n",
      "Mann-Whitney test for female population p-value:  1.02E-03\n"
     ]
    }
   ],
   "source": [
    "## Mann-Whitney test\n",
    "\n",
    "# Male\n",
    "print(\"Mann-Whitney test for male population p-value: \",\n",
    "      f'{mannwhitneyu(male_surv, male_not_surv)[1]:.2E}')\n",
    "\n",
    "#Female\n",
    "print(\"Mann-Whitney test for female population p-value: \",\n",
    "      f'{mannwhitneyu(fem_surv, fem_not_surv)[1]:.2E}')"
   ]
  },
  {
   "cell_type": "markdown",
   "id": "7b1fe759",
   "metadata": {},
   "source": [
    "As we can see from the results, we fail to reject the null hypothesisi that there is no significant difference in Age distribution between our female population, but we see there is strong evidence against the null hypothesis within the male population.\n",
    "\n",
    "We conclude then that there is no Age difference between women, but it does exist among men.\n",
    "\n",
    "We are going to calculate our Confidence Intervals by finding the 2.5% and 97.5% percentiles:"
   ]
  },
  {
   "cell_type": "code",
   "execution_count": 34,
   "id": "3a2acd78",
   "metadata": {},
   "outputs": [
    {
     "name": "stdout",
     "output_type": "stream",
     "text": [
      "Male Survived CI: [ 0.83 ,  57.2 ]\n",
      "Male Survived mean:  27.69 \n",
      "\n",
      "Male Non-Survived CI: [ 9.0 ,  62.65 ]\n",
      "Male Non-Survived mean:  30.74 \n",
      "\n",
      "Female Survived CI: [ 2.8 ,  58.0 ]\n",
      "Female Survived mean:  28.28 \n",
      "\n",
      "Female Non-Survived CI: [ 2.0 ,  48.0 ]\n",
      "Female Non-Survived mean:  23.0 \n",
      "\n"
     ]
    }
   ],
   "source": [
    "print(\"Male Survived CI: [\", round(np.percentile(male_surv, 2.5),2), \", \",\n",
    "      round(np.percentile(male_surv, 97.5),2), \"]\\nMale Survived mean: \", round(np.mean(male_surv),2), \"\\n\")\n",
    "\n",
    "print(\"Male Non-Survived CI: [\", round(np.percentile(male_not_surv, 2.5),2), \", \",\n",
    "      round(np.percentile(male_not_surv, 97.5),2), \"]\\nMale Non-Survived mean: \", round(np.mean(male_not_surv),2), \"\\n\")\n",
    "\n",
    "print(\"Female Survived CI: [\", round(np.percentile(fem_surv, 2.5),2), \", \",\n",
    "      round(np.percentile(fem_surv, 97.5),2), \"]\\nFemale Survived mean: \", round(np.mean(fem_surv),2), \"\\n\")\n",
    "\n",
    "print(\"Female Non-Survived CI: [\", np.percentile(fem_not_surv, 2.5), \", \",\n",
    "      round(np.percentile(fem_not_surv, 97.5),2), \"]\\nFemale Non-Survived mean: \", round(np.mean(fem_not_surv),2), \"\\n\")"
   ]
  },
  {
   "cell_type": "markdown",
   "id": "43e5c3e7",
   "metadata": {},
   "source": [
    "Now we are going to study the relationships between the survival and our categorical variables.\n",
    "\n",
    "We will start with, given the last results about gender, if there is a significant difference in the survival probability between genders. To do so, we are going use a *Chi-Squared Test* as we are dealing with two categorical variables:"
   ]
  },
  {
   "cell_type": "code",
   "execution_count": 35,
   "id": "7fedf333",
   "metadata": {},
   "outputs": [
    {
     "name": "stdout",
     "output_type": "stream",
     "text": [
      "The contingency table for the Chi-Squared test is: \n",
      "\n",
      " Sex       female  male\n",
      "Survived              \n",
      "0             81   468\n",
      "1            233   109 \n",
      "\n",
      "Chi-Squared results:\n",
      "Statistic, p-value:  260.72 1.20E-58\n",
      "Critical:  3.84\n"
     ]
    }
   ],
   "source": [
    "## Chi-Squared\n",
    "\n",
    "# First we have to create our contingency table\n",
    "contingency_gender = pd.crosstab(df[\"Survived\"], df[\"Sex\"])\n",
    "print(\"The contingency table for the Chi-Squared test is: \\n\\n\", contingency_gender, \"\\n\")\n",
    "\n",
    "# Chi-Sq test\n",
    "stat, p, dof, expected = chi2_contingency(contingency_gender)\n",
    "\n",
    "# Critical. We define our confidence level first\n",
    "conf_lev = 0.95\n",
    "print(\"Chi-Squared results:\")\n",
    "print(\"Statistic, p-value: \", round(stat,2), f'{p:.2E}')\n",
    "print(\"Critical: \", round(chi2.ppf(conf_lev, dof),2))"
   ]
  },
  {
   "cell_type": "markdown",
   "id": "5080fd14",
   "metadata": {},
   "source": [
    "As we can see when comparing our statistic with our critical value (`abs(statistic) > critical`) we conclude the same we would conclude when we observe the *p-value* (`p-value < 0.05`): we can reject the null hypothesis that *Survived* and *Sex* are dependent.\n",
    "\n",
    "Before we continue, we are going to calculate our Confidence Interval:"
   ]
  },
  {
   "cell_type": "code",
   "execution_count": 36,
   "id": "0fd86a5f",
   "metadata": {},
   "outputs": [],
   "source": [
    "## Function definition \n",
    "def standard_error(p1, p2, n1, n2):\n",
    "    SE = np.sqrt( (p1 * (1 - p1)/n1) + (p2 * (1 - p2)/n2) )\n",
    "    return SE\n",
    "\n",
    "# Male SE\n",
    "male_p_no = (468)/(468+81)\n",
    "male_p_yes = (109/(109+233))\n",
    "n_no = 468+81\n",
    "n_yes = 109+233\n",
    "\n",
    "male_SE = standard_error(male_p_yes, male_p_no, n_yes, n_no)\n",
    "# print(\"SE:\", male_SE)\n",
    "\n",
    "##Confidence Interval\n",
    "male_CI = 1.96 * male_SE\n",
    "# print(\"CI: \", male_CI)"
   ]
  },
  {
   "cell_type": "code",
   "execution_count": 37,
   "id": "5f964984",
   "metadata": {
    "scrolled": true
   },
   "outputs": [
    {
     "name": "stdout",
     "output_type": "stream",
     "text": [
      "Male Confidence Interval is: [ -0.59 ,  -0.48 ],\n",
      "Proportions differnece =  -0.53\n"
     ]
    }
   ],
   "source": [
    "print(\"Male Confidence Interval is: [\", round(male_p_yes-male_p_no-male_CI, 2), \", \", round(male_p_yes-male_p_no+male_CI, 2) , \"],\"\\\n",
    "     \"\\nProportions differnece = \", round(male_p_yes-male_p_no,2))"
   ]
  },
  {
   "cell_type": "code",
   "execution_count": 38,
   "id": "de8f71f5",
   "metadata": {},
   "outputs": [
    {
     "name": "stdout",
     "output_type": "stream",
     "text": [
      "Female Confidence Interval is: [ 0.48 ,  0.59 ] \n",
      "Proportions difference  = 0.53\n"
     ]
    }
   ],
   "source": [
    "##FEMALE CI\n",
    "\n",
    "# Female SE\n",
    "fem_p_no = 81/(81+468)\n",
    "fem_p_yes = 233/(233+109)\n",
    "n_no = 81+468\n",
    "n_yes = 233+109\n",
    "\n",
    "fem_SE = standard_error(fem_p_yes, fem_p_no, n_yes, n_no)\n",
    "# print(\"SE: \", fem_SE)\n",
    "\n",
    "# CI\n",
    "fem_CI = 1.96 * fem_SE\n",
    "# print(\"CI: \", fem_CI)\n",
    "\n",
    "print(\"Female Confidence Interval is: [\", round(fem_p_yes-fem_p_no-fem_CI,2), \", \", round(fem_p_yes-fem_p_no+fem_CI,2), \"]\",\\\n",
    "     \"\\nProportions difference  =\", round(fem_p_yes-fem_p_no,2))"
   ]
  },
  {
   "cell_type": "code",
   "execution_count": 39,
   "id": "be7a8afa",
   "metadata": {},
   "outputs": [
    {
     "name": "stdout",
     "output_type": "stream",
     "text": [
      "The contingency table for the Chi-Squared test is: \n",
      "\n",
      " Pclass      1   2    3\n",
      "Survived              \n",
      "0          80  97  372\n",
      "1         136  87  119 \n",
      "\n",
      "Chi-Squared results:\n",
      "Statistic, p-value:  102.89 4.55E-23\n",
      "Critical:  5.99\n"
     ]
    }
   ],
   "source": [
    "## Chi-Squared test for 'pclass' feature\n",
    "\n",
    "# We create our contingency table\n",
    "contingency_class = pd.crosstab(df[\"Survived\"], df[\"Pclass\"])\n",
    "print(\"The contingency table for the Chi-Squared test is: \\n\\n\", contingency_class, \"\\n\")\n",
    "\n",
    "# Chi-Sq test\n",
    "stat, p, dof, expected = chi2_contingency(contingency_class)\n",
    "\n",
    "# Critical. We define our confidence level first\n",
    "conf_lev = 0.95\n",
    "print(\"Chi-Squared results:\")\n",
    "print(\"Statistic, p-value: \", round(stat,2) , f'{p:.2E}')\n",
    "print(\"Critical: \", round(chi2.ppf(conf_lev, dof),2))"
   ]
  },
  {
   "cell_type": "markdown",
   "id": "ac66b700",
   "metadata": {},
   "source": [
    "We can see, as we saw in the previous categorical test, that the absolute value of our statistic value is greater than the critical value, and we also see that our *p-value* is less than 0.05. We can conclude then that the null hypothesis can be rejected in favor of the alternative: there exists a dependence between *Survived* and *Pclass*.\n",
    "\n",
    "We are going to calculate the CI's for this case as well:"
   ]
  },
  {
   "cell_type": "code",
   "execution_count": 40,
   "id": "4ec82e42",
   "metadata": {},
   "outputs": [
    {
     "name": "stdout",
     "output_type": "stream",
     "text": [
      "Class 1: difference of proportions:  0.25\n",
      "Class 2: difference of proportions:  0.08\n",
      "Class 3: difference of proportions:  -0.33\n",
      "\n",
      "\n",
      "Class 1 Confidence Interval is: [ 0.19 ,  0.31 ]\n",
      "Class 2 Confidence Interval is: [ 0.02 ,  0.13 ]\n",
      "Class 3 Confidence Interval is: [ -0.39 ,  -0.27 ]\n"
     ]
    }
   ],
   "source": [
    "# Classes SE\n",
    "n_no = 80+97+372\n",
    "n_yes = 136+87+119\n",
    "class1_no = (80)/n_no\n",
    "class1_yes = 136/n_yes\n",
    "class2_no = 97/n_no\n",
    "class2_yes = 87/n_yes\n",
    "class3_no = 372/n_no\n",
    "class3_yes = 119/n_yes\n",
    "\n",
    "class1_SE = standard_error(class1_yes, class1_no, n_yes, n_no)\n",
    "# print(\"Class 1 SE:\", class1_SE)\n",
    "class2_SE = standard_error(class2_yes, class2_no, n_yes, n_no)\n",
    "# print(\"Class 2 SE:\", class2_SE)\n",
    "class3_SE = standard_error(class3_yes, class3_no, n_yes, n_no)\n",
    "# print(\"Class 3 SE:\", class3_SE)\n",
    "\n",
    "## Confidence Interval\n",
    "class1_CI = 1.96 * class1_SE\n",
    "# print(\"class 1 CI: \", class1_CI)\n",
    "class2_CI = 1.96 * class2_SE\n",
    "# print(\"class 2 CI: \", class2_CI)\n",
    "class3_CI = 1.96 * class3_SE\n",
    "# print(\"class 3 CI: \", class3_CI)\n",
    "\n",
    "print(\"Class 1: difference of proportions: \", round(class1_yes-class1_no, 2))\n",
    "print(\"Class 2: difference of proportions: \", round(class2_yes-class2_no, 2))\n",
    "print(\"Class 3: difference of proportions: \", round(class3_yes-class3_no, 2))\n",
    "print(\"\\n\")\n",
    "\n",
    "print(\"Class 1 Confidence Interval is: [\", round(class1_yes - class1_no - class1_CI, 2), \", \", round(class1_yes - class1_no + class1_CI, 2), \"]\")\n",
    "print(\"Class 2 Confidence Interval is: [\", round(class2_yes - class2_no - class2_CI, 2), \", \", round(class2_yes - class2_no + class2_CI, 2), \"]\")\n",
    "print(\"Class 3 Confidence Interval is: [\", round(class3_yes - class3_no - class3_CI,2 ), \", \", round(class3_yes - class3_no + class3_CI, 2), \"]\")"
   ]
  },
  {
   "cell_type": "markdown",
   "id": "eaed636c",
   "metadata": {},
   "source": [
    "Finally we are going to see if there exists an influence on the sex within the classes. To do that, we are going to repeat the Chi-Squared test for *Sex*, but we are going to do one for each *Pclass* that exists."
   ]
  },
  {
   "cell_type": "code",
   "execution_count": 41,
   "id": "4e1027c3",
   "metadata": {},
   "outputs": [
    {
     "name": "stdout",
     "output_type": "stream",
     "text": [
      "Les taules de contingència són, per a les classes 1, 2 i 3 respectivament:\n",
      "\n",
      " Survived   0   1\n",
      "Sex             \n",
      "female     3  91\n",
      "male      77  45 \n",
      " Survived   0   1\n",
      "Sex             \n",
      "female     6  70\n",
      "male      91  17 \n",
      " Survived    0   1\n",
      "Sex              \n",
      "female     72  72\n",
      "male      300  47 \n",
      "\n",
      "\n",
      "Pclass == 1: \n",
      "\tChi-Squared results:\n",
      "\tStatistic, p-value:  79.2 5.60E-19\n",
      "\tCritical:  3.84\n",
      "Pclass == 2: \n",
      "\tChi-Squared results:\n",
      "\tStatistic, p-value:  101.32 7.82E-24\n",
      "\tCritical:  3.84\n",
      "Pclass == 3: \n",
      "\tChi-Squared results:\n",
      "\tStatistic, p-value:  71.68 2.53E-17\n",
      "\tCritical:  3.84\n"
     ]
    }
   ],
   "source": [
    "# We filter by each class\n",
    "class1 = df[df[\"Pclass\"] == 1]\n",
    "class2 = df[df[\"Pclass\"] == 2]\n",
    "class3 = df[df[\"Pclass\"] == 3]\n",
    "\n",
    "# We then create our contingency tables\n",
    "cont_class1 = pd.crosstab(class1[\"Sex\"], class1[\"Survived\"])\n",
    "cont_class2 = pd.crosstab(class2[\"Sex\"], class2[\"Survived\"])\n",
    "cont_class3 = pd.crosstab(class3[\"Sex\"], class3[\"Survived\"])\n",
    "print(\"Les taules de contingència són, per a les classes 1, 2 i 3 respectivament:\\n\\n\",\\\n",
    "     cont_class1, \"\\n\", cont_class2, \"\\n\", cont_class3, \"\\n\\n\")\n",
    "\n",
    "# We proceed to calculate our Chi-Squared tests\n",
    "stat1, p1, dof1, expected1 = chi2_contingency(cont_class1)\n",
    "stat2, p2, dof2, expected2 = chi2_contingency(cont_class2)\n",
    "stat3, p3, dof3, expected3 = chi2_contingency(cont_class3)\n",
    "\n",
    "# Critical value calculus. We define our confidence level first\n",
    "conf_lev = 0.95\n",
    "\n",
    "# Pclass1\n",
    "print(\"Pclass == 1: \")\n",
    "print(\"\\tChi-Squared results:\")\n",
    "print(\"\\tStatistic, p-value: \", round(stat1, 2), f'{p1:.2E}')\n",
    "print(\"\\tCritical: \", round(chi2.ppf(conf_lev, dof1), 2))\n",
    "\n",
    "# Pclass == 2\n",
    "print(\"Pclass == 2: \")\n",
    "print(\"\\tChi-Squared results:\")\n",
    "print(\"\\tStatistic, p-value: \", round(stat2, 2), f'{p2:.2E}')\n",
    "print(\"\\tCritical: \", round(chi2.ppf(conf_lev, dof2), 2))\n",
    "\n",
    "# Pclass == 3\n",
    "print(\"Pclass == 3: \")\n",
    "print(\"\\tChi-Squared results:\")\n",
    "print(\"\\tStatistic, p-value: \", round(stat3, 2), f'{p3:.2E}')\n",
    "print(\"\\tCritical: \", round(chi2.ppf(conf_lev, dof3), 2))"
   ]
  },
  {
   "cell_type": "markdown",
   "id": "83766276",
   "metadata": {},
   "source": [
    "After seeing the results (for each class, the absolute value of our Chi statistic is greater than the critical value and the *p-value* is lesser than 0.05) we can say that there is strong evidence against the null hypothesis (*no difference between male and female within a determined class*). So it does exist a significant difference between the survival probability of female and male passengers within each one of the different classes.\n",
    "\n",
    "We are going now to calculate our confidence intervals:"
   ]
  },
  {
   "cell_type": "code",
   "execution_count": 42,
   "id": "5bded4a7",
   "metadata": {},
   "outputs": [
    {
     "name": "stdout",
     "output_type": "stream",
     "text": [
      "-------------------\n",
      "CLASS 1\n",
      "-------------------\n",
      "Class 1 Male proportions difference:  -0.63\n",
      "Class 1 Female proportions difference:  0.63\n",
      "Class 1 Male Confidence Interval is: [ -0.72 ,  -0.54 ]\n",
      "Class 1 Female Confidence Interval is: [ 0.57 ,  0.69 ]\n",
      "\n",
      "-------------------\n",
      "CLASS 2\n",
      "-------------------\n",
      "Class 2 Male proportions difference:  -0.74\n",
      "Class 2 Female proportions difference:  0.74\n",
      "Class 2 Male Confidence Interval is: [ -0.84 ,  -0.65 ]\n",
      "Class 2 Female Confidence Interval is: [ 0.69 ,  0.8 ]\n",
      "\n",
      "-------------------\n",
      "CLASS 3\n",
      "-------------------\n",
      "Class 3 Male proportions difference:  -0.41\n",
      "Class 3 Female proportions difference:  0.41\n",
      "Class 3 Male Confidence Interval is: [ -0.51 ,  -0.31 ]\n",
      "Class 3 Female Confidence Interval is: [ 0.35 ,  0.47 ]\n"
     ]
    }
   ],
   "source": [
    "## class 1\n",
    "print(\"-------------------\\nCLASS 1\\n-------------------\")\n",
    "# SE's\n",
    "n_no = 77+3\n",
    "n_yes = 91+45\n",
    "male_no = 77/n_no\n",
    "male_yes = 45/n_yes\n",
    "fem_no = 3/n_no\n",
    "fem_yes = 91/n_yes\n",
    "\n",
    "male_SE = standard_error(male_yes, male_no, n_yes, n_no)\n",
    "fem_SE = standard_error(fem_yes, fem_no, n_yes, n_no)\n",
    "# print(\"Class 1 male SE:\", male_SE)\n",
    "# print(\"Class 1 female SE: \", fem_SE)\n",
    "\n",
    "## Confidence Interval\n",
    "male_CI = 1.96 * male_SE\n",
    "# print(\"class 1 male CI: \", male_CI)\n",
    "female_CI = 1.96 * fem_SE\n",
    "# print(\"class 1 female CI: \", female_CI)\n",
    "\n",
    "\n",
    "print(\"Class 1 Male proportions difference: \", round(male_yes-male_no, 2))\n",
    "print(\"Class 1 Female proportions difference: \", round(fem_yes-fem_no, 2))\n",
    "print(\"Class 1 Male Confidence Interval is: [\", round(male_yes - male_no - male_CI, 2), \", \", round(male_yes - male_no + male_CI, 2), \"]\")\n",
    "print(\"Class 1 Female Confidence Interval is: [\", round(fem_yes - fem_no - fem_CI, 2), \", \", round(fem_yes - fem_no + fem_CI, 2), \"]\")\n",
    "print()\n",
    "\n",
    "\n",
    "print(\"-------------------\\nCLASS 2\\n-------------------\")\n",
    "# SE's\n",
    "n_no = 91+6\n",
    "n_yes = 70+17\n",
    "male_no = 91/n_no\n",
    "male_yes = 17/n_yes\n",
    "fem_no = 6/n_no\n",
    "fem_yes = 70/n_yes\n",
    "\n",
    "male_SE = standard_error(male_yes, male_no, n_yes, n_no)\n",
    "fem_SE = standard_error(fem_yes, fem_no, n_yes, n_no)\n",
    "# print(\"Class 2 male SE:\", male_SE)\n",
    "# print(\"Class 2 female SE: \", fem_SE)\n",
    "\n",
    "## Confidence Interval\n",
    "male_CI = 1.96 * male_SE\n",
    "# print(\"class 2 male CI: \", male_CI)\n",
    "female_CI = 1.96 * fem_SE\n",
    "# print(\"class 2 female CI: \", female_CI)\n",
    "\n",
    "\n",
    "print(\"Class 2 Male proportions difference: \", round(male_yes-male_no, 2))\n",
    "print(\"Class 2 Female proportions difference: \", round(fem_yes-fem_no, 2))\n",
    "print(\"Class 2 Male Confidence Interval is: [\", round(male_yes - male_no - male_CI, 2), \", \", round(male_yes - male_no + male_CI, 2), \"]\")\n",
    "print(\"Class 2 Female Confidence Interval is: [\", round(fem_yes - fem_no - fem_CI, 2), \", \", round(fem_yes - fem_no + fem_CI, 2), \"]\")\n",
    "print()\n",
    "\n",
    "\n",
    "print(\"-------------------\\nCLASS 3\\n-------------------\")\n",
    "# SE's\n",
    "n_no = 72+300\n",
    "n_yes = 72+47\n",
    "male_no = 300/n_no\n",
    "male_yes = 47/n_yes\n",
    "fem_no = 72/n_no\n",
    "fem_yes = 72/n_yes\n",
    "\n",
    "male_SE = standard_error(male_yes, male_no, n_yes, n_no)\n",
    "fem_SE = standard_error(fem_yes, fem_no, n_yes, n_no)\n",
    "# print(\"Class 3 male SE:\", male_SE)\n",
    "# print(\"Class 3 female SE: \", fem_SE)\n",
    "\n",
    "## Confidence Interval\n",
    "male_CI = 1.96 * male_SE\n",
    "# print(\"class 3 male CI: \", male_CI)\n",
    "female_CI = 1.96 * fem_SE\n",
    "# print(\"class 3 female CI: \", female_CI)\n",
    "\n",
    "\n",
    "print(\"Class 3 Male proportions difference: \", round(male_yes-male_no, 2))\n",
    "print(\"Class 3 Female proportions difference: \", round(fem_yes-fem_no, 2))\n",
    "print(\"Class 3 Male Confidence Interval is: [\", round(male_yes - male_no - male_CI, 2), \", \", round(male_yes - male_no + male_CI, 2), \"]\")\n",
    "print(\"Class 3 Female Confidence Interval is: [\", round(fem_yes - fem_no - fem_CI, 2), \", \", round(fem_yes - fem_no + fem_CI, 2), \"]\")"
   ]
  },
  {
   "cell_type": "markdown",
   "id": "e3cbec8a",
   "metadata": {},
   "source": [
    "We are going now to define and create a logistic regresion model in order to be able to predict if a passenger, given the characteristic features that describe them, is going to survive or not."
   ]
  },
  {
   "cell_type": "markdown",
   "id": "0614590d",
   "metadata": {},
   "source": [
    "### 4.4 Logistic Regression Mmodel"
   ]
  },
  {
   "cell_type": "markdown",
   "id": "b7c0a03f",
   "metadata": {},
   "source": [
    "Finally we are going to predict the outcome of the passengers using a logistic regression model. Let's first explore some hyperparameters using cross validation. "
   ]
  },
  {
   "cell_type": "code",
   "execution_count": 43,
   "id": "a37b8975",
   "metadata": {},
   "outputs": [
    {
     "data": {
      "text/html": [
       "<div>\n",
       "<style scoped>\n",
       "    .dataframe tbody tr th:only-of-type {\n",
       "        vertical-align: middle;\n",
       "    }\n",
       "\n",
       "    .dataframe tbody tr th {\n",
       "        vertical-align: top;\n",
       "    }\n",
       "\n",
       "    .dataframe thead th {\n",
       "        text-align: right;\n",
       "    }\n",
       "</style>\n",
       "<table border=\"1\" class=\"dataframe\">\n",
       "  <thead>\n",
       "    <tr style=\"text-align: right;\">\n",
       "      <th></th>\n",
       "      <th>Pclass</th>\n",
       "      <th>Age</th>\n",
       "      <th>SibSp</th>\n",
       "      <th>Parch</th>\n",
       "      <th>Fare</th>\n",
       "      <th>Sex_male</th>\n",
       "      <th>Embarked_Q</th>\n",
       "      <th>Embarked_S</th>\n",
       "    </tr>\n",
       "  </thead>\n",
       "  <tbody>\n",
       "    <tr>\n",
       "      <th>0</th>\n",
       "      <td>3</td>\n",
       "      <td>22.0</td>\n",
       "      <td>1</td>\n",
       "      <td>0</td>\n",
       "      <td>7.2500</td>\n",
       "      <td>1</td>\n",
       "      <td>0</td>\n",
       "      <td>1</td>\n",
       "    </tr>\n",
       "    <tr>\n",
       "      <th>1</th>\n",
       "      <td>1</td>\n",
       "      <td>38.0</td>\n",
       "      <td>1</td>\n",
       "      <td>0</td>\n",
       "      <td>71.2833</td>\n",
       "      <td>0</td>\n",
       "      <td>0</td>\n",
       "      <td>0</td>\n",
       "    </tr>\n",
       "  </tbody>\n",
       "</table>\n",
       "</div>"
      ],
      "text/plain": [
       "   Pclass   Age  SibSp  Parch     Fare  Sex_male  Embarked_Q  Embarked_S\n",
       "0       3  22.0      1      0   7.2500         1           0           1\n",
       "1       1  38.0      1      0  71.2833         0           0           0"
      ]
     },
     "execution_count": 43,
     "metadata": {},
     "output_type": "execute_result"
    }
   ],
   "source": [
    "from sklearn.linear_model import LogisticRegression\n",
    "from sklearn.model_selection import train_test_split, GridSearchCV\n",
    "\n",
    "# Prepare train datasets\n",
    "y_train = df['Survived']\n",
    "X_train = df.loc[:, df.columns != 'Survived']\n",
    "\n",
    "# Strings to dummies\n",
    "X_train = pd.get_dummies(X_train, drop_first=True)\n",
    "\n",
    "# Prepare test dataset\n",
    "y_test = pd.read_csv('gender_submission.csv')['Survived']\n",
    "X_test = pd.get_dummies(df_test, drop_first=True)\n",
    "\n",
    "# Show final training set\n",
    "X_train.head(2)"
   ]
  },
  {
   "cell_type": "code",
   "execution_count": 44,
   "id": "c61731ac",
   "metadata": {},
   "outputs": [
    {
     "name": "stdout",
     "output_type": "stream",
     "text": [
      "Best grid search parameters:\n"
     ]
    },
    {
     "data": {
      "text/html": [
       "<div>\n",
       "<style scoped>\n",
       "    .dataframe tbody tr th:only-of-type {\n",
       "        vertical-align: middle;\n",
       "    }\n",
       "\n",
       "    .dataframe tbody tr th {\n",
       "        vertical-align: top;\n",
       "    }\n",
       "\n",
       "    .dataframe thead th {\n",
       "        text-align: right;\n",
       "    }\n",
       "</style>\n",
       "<table border=\"1\" class=\"dataframe\">\n",
       "  <thead>\n",
       "    <tr style=\"text-align: right;\">\n",
       "      <th></th>\n",
       "      <th>param_C</th>\n",
       "      <th>param_penalty</th>\n",
       "      <th>param_solver</th>\n",
       "      <th>mean_test_score</th>\n",
       "    </tr>\n",
       "  </thead>\n",
       "  <tbody>\n",
       "    <tr>\n",
       "      <th>46</th>\n",
       "      <td>0.1</td>\n",
       "      <td>l2</td>\n",
       "      <td>lbfgs</td>\n",
       "      <td>0.801373</td>\n",
       "    </tr>\n",
       "    <tr>\n",
       "      <th>45</th>\n",
       "      <td>0.1</td>\n",
       "      <td>l2</td>\n",
       "      <td>newton-cg</td>\n",
       "      <td>0.801373</td>\n",
       "    </tr>\n",
       "    <tr>\n",
       "      <th>20</th>\n",
       "      <td>0.01</td>\n",
       "      <td>none</td>\n",
       "      <td>newton-cg</td>\n",
       "      <td>0.799120</td>\n",
       "    </tr>\n",
       "    <tr>\n",
       "      <th>80</th>\n",
       "      <td>10</td>\n",
       "      <td>none</td>\n",
       "      <td>newton-cg</td>\n",
       "      <td>0.799120</td>\n",
       "    </tr>\n",
       "    <tr>\n",
       "      <th>72</th>\n",
       "      <td>1</td>\n",
       "      <td>l1</td>\n",
       "      <td>liblinear</td>\n",
       "      <td>0.799120</td>\n",
       "    </tr>\n",
       "  </tbody>\n",
       "</table>\n",
       "</div>"
      ],
      "text/plain": [
       "   param_C param_penalty param_solver  mean_test_score\n",
       "46     0.1            l2        lbfgs         0.801373\n",
       "45     0.1            l2    newton-cg         0.801373\n",
       "20    0.01          none    newton-cg         0.799120\n",
       "80      10          none    newton-cg         0.799120\n",
       "72       1            l1    liblinear         0.799120"
      ]
     },
     "execution_count": 44,
     "metadata": {},
     "output_type": "execute_result"
    }
   ],
   "source": [
    "# Initialize classificator and grid search\n",
    "parameters = {'penalty': ['none', 'l2', 'l1', 'elasticnet'], 'C': [0.001, 0.01, 0.1, 1, 10],\n",
    "             'solver':['newton-cg', 'lbfgs', 'liblinear', 'sag', 'saga']}\n",
    "logr = LogisticRegression()\n",
    "logr_grid_search = GridSearchCV(logr, parameters, cv=4)\n",
    "\n",
    "# Fit with cross-validation\n",
    "logr_grid_search.fit(X_train, y_train)\n",
    "\n",
    "# All cross-validation results\n",
    "all_results = pd.DataFrame(logr_grid_search.cv_results_ ).iloc[:, [4,5,6,12]]\n",
    "print(\"Best grid search parameters:\")\n",
    "all_results.sort_values('mean_test_score', ascending=False).head()"
   ]
  },
  {
   "cell_type": "markdown",
   "id": "60acb1ab",
   "metadata": {},
   "source": [
    "As we can see in the table the two best models have obtained an 80% of accuracy, thus they predict correctly 8 out of 10 observations of the training dataset. Let's try now the best hyperparameters in the training set."
   ]
  },
  {
   "cell_type": "code",
   "execution_count": 45,
   "id": "7e2faa9a",
   "metadata": {},
   "outputs": [
    {
     "name": "stdout",
     "output_type": "stream",
     "text": [
      "[[-0.93950037 -0.03652806 -0.29348592 -0.03176093  0.00354218 -1.96299425\n",
      "   0.02269963 -0.26640044]]\n",
      "Index(['Pclass', 'Age', 'SibSp', 'Parch', 'Fare', 'Sex_male', 'Embarked_Q',\n",
      "       'Embarked_S'],\n",
      "      dtype='object')\n"
     ]
    }
   ],
   "source": [
    "# Fit final logistic regression model\n",
    "logr = LogisticRegression(C=0.1, penalty='l2', solver='newton-cg')\n",
    "logr.fit(X_train, y_train)\n",
    "print(logr.coef_)\n",
    "print(X_train.columns)"
   ]
  },
  {
   "cell_type": "markdown",
   "id": "f5cba2fd",
   "metadata": {},
   "source": [
    "# Comentar coeficients"
   ]
  },
  {
   "cell_type": "code",
   "execution_count": 46,
   "id": "a23b38e7",
   "metadata": {},
   "outputs": [
    {
     "name": "stdout",
     "output_type": "stream",
     "text": [
      "Accuracy: 0.8086124401913876\n"
     ]
    },
    {
     "data": {
      "image/png": "[encoded data removed]",
      "text/plain": [
       "<Figure size 432x288 with 2 Axes>"
      ]
     },
     "metadata": {
      "needs_background": "light"
     },
     "output_type": "display_data"
    }
   ],
   "source": [
    "# Predict\n",
    "from sklearn import metrics\n",
    "\n",
    "y_pred = logr.predict(X_test)\n",
    "print(\"Accuracy:\", metrics.accuracy_score(y_test, y_pred))\n",
    "\n",
    "metrics.plot_confusion_matrix(logr, X_test, y_test)\n",
    "plt.show()"
   ]
  },
  {
   "cell_type": "markdown",
   "id": "1f747213",
   "metadata": {},
   "source": [
    "The logistic regression model has an accuracy of 0.8, thus we can predict correctly 8 out of 10 observations of the test dataset. The accuracy in predicting passengers who survived and those who didn't survive is very similar since the specificity is 0.83 (221/221+45) and the sensibility 0.77 (117/117+35)."
   ]
  }
 ],
 "metadata": {
  "kernelspec": {
   "display_name": "Python 3",
   "language": "python",
   "name": "python3"
  },
  "language_info": {
   "codemirror_mode": {
    "name": "ipython",
    "version": 3
   },
   "file_extension": ".py",
   "mimetype": "text/x-python",
   "name": "python",
   "nbconvert_exporter": "python",
   "pygments_lexer": "ipython3",
   "version": "3.8.8"
  }
 },
 "nbformat": 4,
 "nbformat_minor": 5
}
